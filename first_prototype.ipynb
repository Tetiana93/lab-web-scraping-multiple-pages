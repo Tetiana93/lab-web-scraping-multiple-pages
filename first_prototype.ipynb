{
 "cells": [
  {
   "cell_type": "code",
   "execution_count": 3,
   "id": "3f33f159",
   "metadata": {},
   "outputs": [
    {
     "name": "stdout",
     "output_type": "stream",
     "text": [
      "········\n"
     ]
    }
   ],
   "source": [
    "import requests\n",
    "import pandas as pd\n",
    "from bs4 import BeautifulSoup\n",
    "import pymysql\n",
    "from sqlalchemy import create_engine\n",
    "import getpass\n",
    "password=getpass.getpass()"
   ]
  },
  {
   "cell_type": "code",
   "execution_count": 5,
   "id": "55a1d355",
   "metadata": {},
   "outputs": [
    {
     "data": {
      "text/html": [
       "<div>\n",
       "<style scoped>\n",
       "    .dataframe tbody tr th:only-of-type {\n",
       "        vertical-align: middle;\n",
       "    }\n",
       "\n",
       "    .dataframe tbody tr th {\n",
       "        vertical-align: top;\n",
       "    }\n",
       "\n",
       "    .dataframe thead th {\n",
       "        text-align: right;\n",
       "    }\n",
       "</style>\n",
       "<table border=\"1\" class=\"dataframe\">\n",
       "  <thead>\n",
       "    <tr style=\"text-align: right;\">\n",
       "      <th></th>\n",
       "      <th>Song</th>\n",
       "      <th>Artist</th>\n",
       "    </tr>\n",
       "  </thead>\n",
       "  <tbody>\n",
       "    <tr>\n",
       "      <th>0</th>\n",
       "      <td>We Can't Be Friends (Wait For Your Love)</td>\n",
       "      <td>Ariana Grande</td>\n",
       "    </tr>\n",
       "    <tr>\n",
       "      <th>1</th>\n",
       "      <td>Lose Control</td>\n",
       "      <td>Teddy Swims</td>\n",
       "    </tr>\n",
       "    <tr>\n",
       "      <th>2</th>\n",
       "      <td>Beautiful Things</td>\n",
       "      <td>Benson Boone</td>\n",
       "    </tr>\n",
       "    <tr>\n",
       "      <th>3</th>\n",
       "      <td>Carnival</td>\n",
       "      <td>Â¥$: Ye &amp; Ty Dolla $ign Featuring Rich The Kid...</td>\n",
       "    </tr>\n",
       "    <tr>\n",
       "      <th>4</th>\n",
       "      <td>Lovin On Me</td>\n",
       "      <td>Jack Harlow</td>\n",
       "    </tr>\n",
       "    <tr>\n",
       "      <th>...</th>\n",
       "      <td>...</td>\n",
       "      <td>...</td>\n",
       "    </tr>\n",
       "    <tr>\n",
       "      <th>95</th>\n",
       "      <td>Back Then Right Now</td>\n",
       "      <td>Tyler Hubbard</td>\n",
       "    </tr>\n",
       "    <tr>\n",
       "      <th>96</th>\n",
       "      <td>Tourniquet</td>\n",
       "      <td>Zach Bryan</td>\n",
       "    </tr>\n",
       "    <tr>\n",
       "      <th>97</th>\n",
       "      <td>Outskirts</td>\n",
       "      <td>Sam Hunt</td>\n",
       "    </tr>\n",
       "    <tr>\n",
       "      <th>98</th>\n",
       "      <td>Worth It</td>\n",
       "      <td>Offset &amp; Don Toliver</td>\n",
       "    </tr>\n",
       "    <tr>\n",
       "      <th>99</th>\n",
       "      <td>Fuk Sumn</td>\n",
       "      <td>Â¥$: Ye &amp; Ty Dolla $ign</td>\n",
       "    </tr>\n",
       "  </tbody>\n",
       "</table>\n",
       "<p>100 rows × 2 columns</p>\n",
       "</div>"
      ],
      "text/plain": [
       "                                        Song  \\\n",
       "0   We Can't Be Friends (Wait For Your Love)   \n",
       "1                               Lose Control   \n",
       "2                           Beautiful Things   \n",
       "3                                   Carnival   \n",
       "4                                Lovin On Me   \n",
       "..                                       ...   \n",
       "95                       Back Then Right Now   \n",
       "96                                Tourniquet   \n",
       "97                                 Outskirts   \n",
       "98                                  Worth It   \n",
       "99                                  Fuk Sumn   \n",
       "\n",
       "                                               Artist  \n",
       "0                                       Ariana Grande  \n",
       "1                                         Teddy Swims  \n",
       "2                                        Benson Boone  \n",
       "3   Â¥$: Ye & Ty Dolla $ign Featuring Rich The Kid...  \n",
       "4                                         Jack Harlow  \n",
       "..                                                ...  \n",
       "95                                      Tyler Hubbard  \n",
       "96                                         Zach Bryan  \n",
       "97                                           Sam Hunt  \n",
       "98                               Offset & Don Toliver  \n",
       "99                            Â¥$: Ye & Ty Dolla $ign  \n",
       "\n",
       "[100 rows x 2 columns]"
      ]
     },
     "execution_count": 5,
     "metadata": {},
     "output_type": "execute_result"
    }
   ],
   "source": [
    "connection_string = 'mysql+pymysql://root:' + password + '@localhost/songs'\n",
    "engine = create_engine(connection_string)\n",
    "\n",
    "query = '''\n",
    "        select * from billboard100;\n",
    "        '''\n",
    "\n",
    "billboard100 = pd.read_sql_query(query, engine)\n",
    "billboard100"
   ]
  },
  {
   "cell_type": "code",
   "execution_count": 6,
   "id": "fe1dca12",
   "metadata": {},
   "outputs": [
    {
     "data": {
      "text/html": [
       "<div>\n",
       "<style scoped>\n",
       "    .dataframe tbody tr th:only-of-type {\n",
       "        vertical-align: middle;\n",
       "    }\n",
       "\n",
       "    .dataframe tbody tr th {\n",
       "        vertical-align: top;\n",
       "    }\n",
       "\n",
       "    .dataframe thead th {\n",
       "        text-align: right;\n",
       "    }\n",
       "</style>\n",
       "<table border=\"1\" class=\"dataframe\">\n",
       "  <thead>\n",
       "    <tr style=\"text-align: right;\">\n",
       "      <th></th>\n",
       "      <th>Song</th>\n",
       "      <th>Artist</th>\n",
       "    </tr>\n",
       "  </thead>\n",
       "  <tbody>\n",
       "    <tr>\n",
       "      <th>0</th>\n",
       "      <td>The Carnegie Hall Concert</td>\n",
       "      <td>Alice Coltrane</td>\n",
       "    </tr>\n",
       "    <tr>\n",
       "      <th>1</th>\n",
       "      <td>Tigers Blood</td>\n",
       "      <td>Waxahatchee</td>\n",
       "    </tr>\n",
       "    <tr>\n",
       "      <th>2</th>\n",
       "      <td>Glasgow Eyes</td>\n",
       "      <td>The Jesus and Mary Chain</td>\n",
       "    </tr>\n",
       "    <tr>\n",
       "      <th>3</th>\n",
       "      <td>LVL5 P2</td>\n",
       "      <td>Bktherula</td>\n",
       "    </tr>\n",
       "    <tr>\n",
       "      <th>4</th>\n",
       "      <td>Bright Future</td>\n",
       "      <td>Adrianne Lenker</td>\n",
       "    </tr>\n",
       "    <tr>\n",
       "      <th>...</th>\n",
       "      <td>...</td>\n",
       "      <td>...</td>\n",
       "    </tr>\n",
       "    <tr>\n",
       "      <th>1195</th>\n",
       "      <td>Blue Angeles</td>\n",
       "      <td>Haux</td>\n",
       "    </tr>\n",
       "    <tr>\n",
       "      <th>1196</th>\n",
       "      <td>Everything I Thought It Was</td>\n",
       "      <td>Justin Timberlake</td>\n",
       "    </tr>\n",
       "    <tr>\n",
       "      <th>1197</th>\n",
       "      <td>Deep Sage</td>\n",
       "      <td>Gouge Away</td>\n",
       "    </tr>\n",
       "    <tr>\n",
       "      <th>1198</th>\n",
       "      <td>The ADDENDUM - i was mature for my age, but i ...</td>\n",
       "      <td>grouptherapy.</td>\n",
       "    </tr>\n",
       "    <tr>\n",
       "      <th>1199</th>\n",
       "      <td>Fine Ho, Stay</td>\n",
       "      <td>Flo Milli</td>\n",
       "    </tr>\n",
       "  </tbody>\n",
       "</table>\n",
       "<p>1200 rows × 2 columns</p>\n",
       "</div>"
      ],
      "text/plain": [
       "                                                   Song  \\\n",
       "0                             The Carnegie Hall Concert   \n",
       "1                                          Tigers Blood   \n",
       "2                                          Glasgow Eyes   \n",
       "3                                               LVL5 P2   \n",
       "4                                         Bright Future   \n",
       "...                                                 ...   \n",
       "1195                                       Blue Angeles   \n",
       "1196                        Everything I Thought It Was   \n",
       "1197                                          Deep Sage   \n",
       "1198  The ADDENDUM - i was mature for my age, but i ...   \n",
       "1199                                      Fine Ho, Stay   \n",
       "\n",
       "                        Artist  \n",
       "0               Alice Coltrane  \n",
       "1                  Waxahatchee  \n",
       "2     The Jesus and Mary Chain  \n",
       "3                    Bktherula  \n",
       "4              Adrianne Lenker  \n",
       "...                        ...  \n",
       "1195                      Haux  \n",
       "1196         Justin Timberlake  \n",
       "1197                Gouge Away  \n",
       "1198             grouptherapy.  \n",
       "1199                 Flo Milli  \n",
       "\n",
       "[1200 rows x 2 columns]"
      ]
     },
     "execution_count": 6,
     "metadata": {},
     "output_type": "execute_result"
    }
   ],
   "source": [
    "connection_string = 'mysql+pymysql://root:' + password + '@localhost/songs'\n",
    "engine = create_engine(connection_string)\n",
    "\n",
    "query = '''\n",
    "        select * from othersongs;\n",
    "        '''\n",
    "\n",
    "othersongs = pd.read_sql_query(query, engine)\n",
    "othersongs"
   ]
  },
  {
   "cell_type": "code",
   "execution_count": 12,
   "id": "99871af4",
   "metadata": {},
   "outputs": [
    {
     "name": "stdout",
     "output_type": "stream",
     "text": [
      "Write here song and artist:We Can't Be Friends (Wait For Your Love), Ariana Grande\n"
     ]
    }
   ],
   "source": [
    "song_artist=input('Write here song and artist:')"
   ]
  },
  {
   "cell_type": "code",
   "execution_count": 32,
   "id": "332d2a47",
   "metadata": {},
   "outputs": [],
   "source": [
    "def recommendation(song_name, artist_name):\n",
    "    if (song_name, artist_name)  in zip(billboard100['Song'],billboard100['Artist']):\n",
    "        return billboard100.sample().iloc[0]\n",
    "    else:\n",
    "        return othersongs.sample().iloc[0]"
   ]
  },
  {
   "cell_type": "code",
   "execution_count": 35,
   "id": "5e32af6f",
   "metadata": {},
   "outputs": [
    {
     "name": "stdout",
     "output_type": "stream",
     "text": [
      "Write here song:The Carnegie Hall Concert\n",
      "Write here artist:Ariana Grande\n"
     ]
    },
    {
     "data": {
      "text/plain": [
       "Song        Bright Future\n",
       "Artist    Adrianne Lenker\n",
       "Name: 1168, dtype: object"
      ]
     },
     "execution_count": 35,
     "metadata": {},
     "output_type": "execute_result"
    }
   ],
   "source": [
    "song_name=input('Write here song:')\n",
    "artist_name=input('Write here artist:') \n",
    "\n",
    "recommendation(song_name, artist_name )"
   ]
  },
  {
   "cell_type": "code",
   "execution_count": null,
   "id": "78e2b27a",
   "metadata": {},
   "outputs": [],
   "source": [
    "\"The Carnegie Hall Concert\", 'Ariana Grande'"
   ]
  }
 ],
 "metadata": {
  "kernelspec": {
   "display_name": "Python 3 (ipykernel)",
   "language": "python",
   "name": "python3"
  },
  "language_info": {
   "codemirror_mode": {
    "name": "ipython",
    "version": 3
   },
   "file_extension": ".py",
   "mimetype": "text/x-python",
   "name": "python",
   "nbconvert_exporter": "python",
   "pygments_lexer": "ipython3",
   "version": "3.11.5"
  }
 },
 "nbformat": 4,
 "nbformat_minor": 5
}
